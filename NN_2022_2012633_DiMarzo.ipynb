{
  "cells": [
    {
      "cell_type": "markdown",
      "metadata": {
        "id": "sdnnRxTNdyW1"
      },
      "source": [
        "# Neural Networks\n",
        "## Homework 1: Implementing advanced activation functions\n",
        "\n",
        "**Name**: Gabriele G. Di Marzo\n",
        "\n",
        "**Matricola**: 2012633\n",
        "\n",
        "Upload the completed notebook **before 30/11/2022 at 23:59** on the Google Classrom page."
      ]
    },
    {
      "cell_type": "code",
      "execution_count": 1,
      "metadata": {
        "id": "PEr8qV6-nMuL"
      },
      "outputs": [],
      "source": [
        "import torch\n",
        "import matplotlib.pyplot as plt\n"
      ]
    },
    {
      "cell_type": "markdown",
      "metadata": {
        "id": "wAEgygyPfO7b"
      },
      "source": [
        "### Objective\n",
        "\n",
        "The purpose of this homework is to implement a new layer inside PyTorch, by properly extending the `nn.Module` object. **Before proceeding**, carefully read the following documentation:\n",
        "\n",
        "+ [nn.Module](https://pytorch.org/docs/stable/generated/torch.nn.Module.html?highlight=module#torch.nn.Module)\n",
        "+ [PyTorch: Custom Module](https://pytorch.org/tutorials/beginner/examples_nn/polynomial_module.html)\n",
        "\n",
        "You can also (optionally) learn more about activation functions by reading the survey in [1]."
      ]
    },
    {
      "cell_type": "markdown",
      "metadata": {
        "id": "sYYk6NnFXqYr"
      },
      "source": [
        "### Introduction: families of activation functions\n",
        "\n",
        "In the course up to now, we have seen the application of the sigmoid, the softmax, and the ReLU. However, many additional activation functions exist [1], with varying strengths and drawbacks.\n",
        "\n",
        "Several of them are designed as variants of the ReLU. The **S-Shaped ReLU** (SReLU) [2] is defined as:\n",
        "\n",
        "$$\n",
        "\\phi(s) = \\begin{cases} t^r + a^r(s - t^r) & \\text{ if } s > t^r \\\\ s & \\text{ if } t^r > s > t^l \\\\ t^l + a^l(s - t^l) & \\text{ if } s < t^l \\end{cases} \\,.\n",
        "$$\n",
        "\n",
        "The four parameters $t^r, a^r, t^l, a^l$ are trained via back-propagation, and they are **different for each unit in the layer**. \n"
      ]
    },
    {
      "cell_type": "markdown",
      "metadata": {
        "id": "5u4aF6Z4maHd"
      },
      "source": [
        "### Exercise 1: implementing an activation function (1 point)\n",
        "\n",
        "Let us start with the simpler **[exponential linear squashing](https://paperswithcode.com/method/elish)** (ELiSH) activation function:\n",
        "\n",
        "$$\n",
        "\\phi(x) = \\begin{cases} \\sigma(x)x & \\text{ if } x \\ge 0 \\\\ \\frac{\\exp(x) - 1}{1 + \\exp(-x)} & \\text{ otherwise} \\end{cases}\n",
        "$$"
      ]
    },
    {
      "cell_type": "markdown",
      "metadata": {
        "id": "TKdIjBuZgc5o"
      },
      "source": [
        "**Exercise 1**: complete the following stub."
      ]
    },
    {
      "cell_type": "code",
      "execution_count": 2,
      "metadata": {
        "id": "DfCpFg2xdug_"
      },
      "outputs": [],
      "source": [
        "def elish(x):\n",
        "  # x is a generic torch.Tensor, and this function must compute the ELiSH activation function.\n",
        "    return torch.where(x>=0, torch.sigmoid(x)*x, torch.sigmoid(x)*(torch.exp(x) - 1 ))\n"
      ]
    },
    {
      "cell_type": "markdown",
      "metadata": {
        "id": "o8MEZxqbn8vs"
      },
      "source": [
        "**Hints for a correct implementation**:\n",
        "\n",
        "1. There are several ways of implementing an if/else operation like the one above in PyTorch. In general, the simplest implementation of \"*if a then b, else c*\" is `torch.where(a, b, c)` (see the documentation for [torch.where](https://pytorch.org/docs/stable/generated/torch.where.html)). Any working variant is accepted here."
      ]
    },
    {
      "cell_type": "markdown",
      "metadata": {
        "id": "B9a6dBsb_I11"
      },
      "source": [
        "Here is a simple sanity check for the correct implementation:"
      ]
    },
    {
      "cell_type": "code",
      "execution_count": 3,
      "metadata": {
        "colab": {
          "base_uri": "https://localhost:8080/"
        },
        "id": "d2rkMj9r_UJG",
        "outputId": "e7f2ac8f-92f3-4993-f310-2ba272dc1c25"
      },
      "outputs": [
        {
          "output_type": "execute_result",
          "data": {
            "text/plain": [
              "tensor([[ 0.1100, -0.1323]])"
            ]
          },
          "metadata": {},
          "execution_count": 3
        }
      ],
      "source": [
        "elish(torch.FloatTensor([[0.2, -0.4]])) # Should be approximately [[0.11, -0.13]]"
      ]
    },
    {
      "cell_type": "markdown",
      "metadata": {
        "id": "uv1-249GftP2"
      },
      "source": [
        "### Exercise 2: some visualization experiments (1 point)"
      ]
    },
    {
      "cell_type": "markdown",
      "metadata": {
        "id": "RWY76mEepSgj"
      },
      "source": [
        "**Exercise 2.1**: plot the ELiSH function in [-5, +5]."
      ]
    },
    {
      "cell_type": "code",
      "execution_count": 4,
      "metadata": {
        "colab": {
          "base_uri": "https://localhost:8080/",
          "height": 265
        },
        "id": "jdK0CyscfDtC",
        "outputId": "6ed03601-207c-484f-da63-38ce243e21b3"
      },
      "outputs": [
        {
          "output_type": "display_data",
          "data": {
            "text/plain": [
              "<Figure size 432x288 with 1 Axes>"
            ],
            "image/png": "[encoded data removed]"
          },
          "metadata": {
            "needs_background": "light"
          }
        }
      ],
      "source": [
        "vals = torch.arange(-5., 6., 0.1)\n",
        "x = torch.arange(-5., 6., 0.1, requires_grad=True )\n",
        "plt.plot(vals, elish(vals))\n",
        "plt.xlim([-5, 5])\n",
        "plt.grid(True)\n",
        "plt.show()"
      ]
    },
    {
      "cell_type": "markdown",
      "metadata": {
        "id": "GnvkoRVAqwg1"
      },
      "source": [
        "**Exercise 2.2**: using the utilities from `torch.autograd` ([torch.autograd](https://pytorch.org/docs/stable/autograd.html)), **compute and plot** the derivative of ELiSH using automatic differentiation."
      ]
    },
    {
      "cell_type": "code",
      "execution_count": 5,
      "metadata": {
        "colab": {
          "base_uri": "https://localhost:8080/",
          "height": 265
        },
        "id": "0QJKAtmWf3ZI",
        "outputId": "2e2a8051-3f1e-4048-d576-6d8621f4bb21"
      },
      "outputs": [
        {
          "output_type": "display_data",
          "data": {
            "text/plain": [
              "<Figure size 432x288 with 1 Axes>"
            ],
            "image/png": "[encoded data removed]"
          },
          "metadata": {
            "needs_background": "light"
          }
        }
      ],
      "source": [
        "# TODO: plot the gradient of the ELiSH function\n",
        "x = torch.arange(-5, 6, 0.1, requires_grad=True )\n",
        "plt.plot(vals, elish(vals), 'blue')\n",
        "plt.xlim([-5, 5])\n",
        "plt.grid(True)\n",
        "\n",
        "y = torch.sum(elish(x))\n",
        "y.backward()\n",
        "\n",
        "plt.grid(True)\n",
        "plt.plot( vals, x.grad.detach().numpy(), 'orange')\n",
        "plt.xlim([-5, 5])\n",
        "plt.show()\n"
      ]
    },
    {
      "cell_type": "markdown",
      "metadata": {
        "id": "Yqnx7jRxf2qy"
      },
      "source": [
        "**Exercise 2.3 (sanity check)**: build a model using the previously defined activation function, and test it on a random mini-batch of data:"
      ]
    },
    {
      "cell_type": "code",
      "execution_count": 6,
      "metadata": {
        "colab": {
          "base_uri": "https://localhost:8080/"
        },
        "id": "-YLbAbBYfJ7D",
        "outputId": "e2d48d17-ceda-46d5-d907-83d851c847ca"
      },
      "outputs": [
        {
          "output_type": "stream",
          "name": "stdout",
          "text": [
            "tensor([[-0.0776,  0.2435],\n",
            "        [-0.4077,  0.1592],\n",
            "        [-0.2564, -0.0069],\n",
            "        [-0.0840, -0.2627],\n",
            "        [-0.1061,  0.0534]], grad_fn=<AddmmBackward0>)\n"
          ]
        }
      ],
      "source": [
        "# TODO: complete the definition of the model\n",
        "class RandomModel(torch.nn.Module): \n",
        "  def __init__(self, funct): \n",
        "    super().__init__()\n",
        "    self.l1 = torch.nn.Linear(10, 10)\n",
        "    self.l2 = torch.nn.Linear(10, 2)\n",
        "    self.funct = funct\n",
        "  \n",
        "  def forward(self, x): \n",
        "    x = self.l1(x)\n",
        "    x = self.funct(x)\n",
        "    x = self.l2(x)\n",
        "    return x\n",
        "    \n",
        "\n",
        "model = RandomModel(elish)\n",
        "\n",
        "print(model(torch.randn((5, 10))))"
      ]
    },
    {
      "cell_type": "markdown",
      "metadata": {
        "id": "BKMV_HkD23K_"
      },
      "source": [
        "## Exercise 3: implementing a trainable activation function (2 points)"
      ]
    },
    {
      "cell_type": "markdown",
      "metadata": {
        "id": "Z3PgdzQu3p0L"
      },
      "source": [
        "**Exercise 3:** define a `torch.nn.Module` implementing the SReLU.\n",
        "\n",
        "**Hints for a correct implementation**:\n",
        "* The layer should **only** implement the activation function. Ideally, it will always be used in combination with a fully-connected layer with no activation function.\n",
        "* Think carefully about how you want to initialize the parameters."
      ]
    },
    {
      "cell_type": "code",
      "execution_count": null,
      "metadata": {
        "id": "Z2cvBI9N32SA"
      },
      "outputs": [],
      "source": [
        "from torch.nn.parameter import Parameter\n",
        "\n",
        "class SReLU(torch.nn.Module):\n",
        "  def __init__(self, units):\n",
        "    super().__init__()\n",
        "    self.units = units\n",
        "\n",
        "\n",
        "    self.alpha1 = Parameter(torch.randn((self.units), requires_grad=True))\n",
        "    self.beta1 = Parameter(torch.randn((self.units), requires_grad=True))\n",
        "\n",
        "    self.alpha2 = Parameter(torch.randn((self.units), requires_grad=True))\n",
        "    self.beta2 = Parameter(torch.randn((self.units), requires_grad=True))\n",
        "\n",
        "  \n",
        "  def forward(self, x):\n",
        "    return torch.where(x>self.beta1, self.beta1 + self.alpha1*(x - self.beta1),\n",
        "                torch.where(\n",
        "                    self.beta2>x, x,  self.beta2 + self.alpha2*(x-self.beta2))\n",
        "                 )\n",
        "    \n",
        "    "
      ]
    },
    {
      "cell_type": "markdown",
      "metadata": {
        "id": "2ajdzaIa4-Mt"
      },
      "source": [
        "As a sanity check, initialize a SReLU layer and count the number of parameters:"
      ]
    },
    {
      "cell_type": "code",
      "execution_count": null,
      "metadata": {
        "colab": {
          "base_uri": "https://localhost:8080/"
        },
        "id": "mnATD7hW49sK",
        "outputId": "b3fa4f1a-9a75-4fc5-f757-d2d3357c2751"
      },
      "outputs": [
        {
          "output_type": "stream",
          "name": "stdout",
          "text": [
            "8\n"
          ]
        }
      ],
      "source": [
        "# Initialize the layer\n",
        "layer = SReLU(2)\n",
        "# Count the parameters\n",
        "numb_params = sum([p.numel() for p in layer.parameters() if p.requires_grad])\n",
        "print( numb_params ) # Should print 8!"
      ]
    },
    {
      "cell_type": "markdown",
      "metadata": {
        "id": "oW_Lny-j5h6A"
      },
      "source": [
        "## Exercise 4: training a model with trainable activation functions (1 point)"
      ]
    },
    {
      "cell_type": "markdown",
      "metadata": {
        "id": "yC9Ip1qz5-fp"
      },
      "source": [
        "We will use the following dataset from TensorFlow Datasets:\n",
        "https://www.tensorflow.org/datasets/catalog/german_credit_numeric"
      ]
    },
    {
      "cell_type": "code",
      "execution_count": null,
      "metadata": {
        "id": "MdoRIsX66Bww"
      },
      "outputs": [],
      "source": [
        "import tensorflow_datasets as tfds\n",
        "import torch.optim as optim \n",
        "from collections import OrderedDict\n",
        "from torch.utils.data import DataLoader\n",
        "from sklearn import preprocessing\n",
        "from numpy import mean"
      ]
    },
    {
      "cell_type": "code",
      "execution_count": null,
      "metadata": {
        "id": "yclY7yodB-on"
      },
      "outputs": [],
      "source": [
        "class dataset(torch.utils.data.Dataset):\n",
        "  def __init__(self,X,Y):\n",
        "    self.X = X                           \n",
        "    self.Y = Y       \n",
        "\n",
        "  def __len__(self):\n",
        "    return len(self.X)                  \n",
        "\n",
        "  def __getitem__(self, idx):\n",
        "    return [self.X[idx], self.Y[idx]]"
      ]
    },
    {
      "cell_type": "markdown",
      "metadata": {
        "id": "bYlP5pimbMH6"
      },
      "source": [
        "train_data = tfds.load('german_credit_numeric', split='train[:75%]', as_supervised=True)\n",
        "Xtrain, ytrain = train_data.batch(5000).get_single_element()\n"
      ]
    },
    {
      "cell_type": "code",
      "execution_count": null,
      "metadata": {
        "colab": {
          "base_uri": "https://localhost:8080/",
          "height": 116,
          "referenced_widgets": [
            "76cd3bf32b814994a3b62d9387b8d4d3",
            "e8cf9e329b554790975afeb4039ba757",
            "008b07fdc96a4002ac2beca1a9f7d0be",
            "ab7891e8262b4c75a4fcb572f77a2d16",
            "c6e5cf4d54da4bdd8dbab54b9d3203ea",
            "7aee557abc584b8abdb0bbf2e1419159",
            "caf10268f0bf450e9c70b472019122a4",
            "0af801d24cdd4693abb1b46eda9e0fe7",
            "e7b142fe0c354835b6b555b7e7fff1df",
            "080ad4c5b61d4d5eb3c6c26fa3130dc5",
            "de47594d5dc64ab19d39968fccfed4db",
            "851d8034a8ee4370a2f61ab79eda6647",
            "6fc44c12dfb84fed89d1f0f9ea4305e8",
            "9c5b75b8c8604ac38a35be63b77a0d97",
            "a77bcf7be0474c889610da8c32991226",
            "4feb171f0f0d469fa0d27ac591704831",
            "60cfa7df9d1f4809aef22641da82f2b1",
            "c748036e563f4952a1938a2b03fd5811",
            "653536b09edf40f78489c96feb30055f",
            "ee9683900bfe4497957fdcf28cc6f1e6",
            "ffb3c83cfaef48b097e3ae17e6d09927",
            "f6849f2fc6a042aeb179c27006200d47",
            "833dd5cdfe664dd3a6ec6b9bcb137f75",
            "afd659d3578b49cb8299ae67b9a86a02",
            "07bacd156f87482db28235eac19c5597",
            "d551c0b12d8e47eb8a203319314582c8",
            "bcd78433f56f4201b71f20b2f14acbcd",
            "834c9a34933e44d48059cd2d2b075076",
            "48197e0c63c34739811d0fc76de4e8ea",
            "c1a13466807d408b9e1575b238fb22af",
            "20d069df08884162bac03ed46a44201e",
            "e252357a61ce47f3852151542c1396fe",
            "7cf2656e58fe434ea108dcb70a6bd8c6",
            "e0f481da504f4326a906699e5404cc39",
            "5dfea2b19ef849e48d22328977476c0a",
            "67d081ca452543a28d4e6cf205b40f6a",
            "a1a8ac1fdac544e6b4d8520a878c3d8a",
            "7fe9307d8bd543a4a409b0729a7a62ba",
            "f88dbb487ef64339b5b42f99beb2fc40",
            "9cf05a6b976a436693c06e38c576e477",
            "f971b940a3094448afe017314aacaa77",
            "9837fca54727463caeeb427518bf97d3",
            "da0047e75f1f4420b2369958545d6e54",
            "32016a60ed0c428abdd103f3f7251ba2",
            "02c79bc821a2454480a2ff5b45217a16",
            "de6c910b5e2c4da698533ff97e3a5e01",
            "160911d9ec3f465cb9e130c3f7d78637",
            "7d7b03943eb244b183d06c92fd7cc596",
            "754d024b65794e17980cdf906b34d59a",
            "d9d3b1ea29a246bf838f7064377cc0fd",
            "482f445629fa47aa93074bee01ed746f",
            "5f25e2d35c2c428b8fe0f2bb7f074065",
            "acf1cc70157a419ba7c86e7817d3bc50",
            "520701f4d5464fc696f0cda9afc6fdc9",
            "c06d1ee12ad1427194fcb8e1ce45b742"
          ]
        },
        "id": "DSVqP-52bYdf",
        "outputId": "e177a34c-d8c1-4d01-8077-a2ddea463685"
      },
      "outputs": [
        {
          "output_type": "stream",
          "name": "stdout",
          "text": [
            "Downloading and preparing dataset 99.61 KiB (download: 99.61 KiB, generated: 58.61 KiB, total: 158.22 KiB) to ~/tensorflow_datasets/german_credit_numeric/1.0.0...\n"
          ]
        },
        {
          "output_type": "display_data",
          "data": {
            "text/plain": [
              "Dl Completed...: 0 url [00:00, ? url/s]"
            ],
            "application/vnd.jupyter.widget-view+json": {
              "version_major": 2,
              "version_minor": 0,
              "model_id": "76cd3bf32b814994a3b62d9387b8d4d3"
            }
          },
          "metadata": {}
        },
        {
          "output_type": "display_data",
          "data": {
            "text/plain": [
              "Dl Size...: 0 MiB [00:00, ? MiB/s]"
            ],
            "application/vnd.jupyter.widget-view+json": {
              "version_major": 2,
              "version_minor": 0,
              "model_id": "851d8034a8ee4370a2f61ab79eda6647"
            }
          },
          "metadata": {}
        },
        {
          "output_type": "display_data",
          "data": {
            "text/plain": [
              "Generating splits...:   0%|          | 0/1 [00:00<?, ? splits/s]"
            ],
            "application/vnd.jupyter.widget-view+json": {
              "version_major": 2,
              "version_minor": 0,
              "model_id": "833dd5cdfe664dd3a6ec6b9bcb137f75"
            }
          },
          "metadata": {}
        },
        {
          "output_type": "display_data",
          "data": {
            "text/plain": [
              "Generating train examples...:   0%|          | 0/1000 [00:00<?, ? examples/s]"
            ],
            "application/vnd.jupyter.widget-view+json": {
              "version_major": 2,
              "version_minor": 0,
              "model_id": "e0f481da504f4326a906699e5404cc39"
            }
          },
          "metadata": {}
        },
        {
          "output_type": "display_data",
          "data": {
            "text/plain": [
              "Shuffling ~/tensorflow_datasets/german_credit_numeric/1.0.0.incompleteAARTBJ/german_credit_numeric-train.tfrec…"
            ],
            "application/vnd.jupyter.widget-view+json": {
              "version_major": 2,
              "version_minor": 0,
              "model_id": "02c79bc821a2454480a2ff5b45217a16"
            }
          },
          "metadata": {}
        },
        {
          "output_type": "stream",
          "name": "stdout",
          "text": [
            "Dataset german_credit_numeric downloaded and prepared to ~/tensorflow_datasets/german_credit_numeric/1.0.0. Subsequent calls will reuse this data.\n"
          ]
        }
      ],
      "source": [
        "train_data = tfds.load('german_credit_numeric', split='train[:75%]', as_supervised=True)\n",
        "Xtrain, ytrain = train_data.batch(5000).get_single_element()\n"
      ]
    },
    {
      "cell_type": "code",
      "execution_count": null,
      "metadata": {
        "id": "JH2HxGZRceFv"
      },
      "outputs": [],
      "source": [
        "train_data = tfds.load('german_credit_numeric', split='train[:75%]', as_supervised=True)\n",
        "test_data = tfds.load('german_credit_numeric', split='train[75%:]', as_supervised=True)\n",
        "\n",
        "Xtrain, ytrain = train_data.batch(5000).get_single_element()\n",
        "Xtrain, ytrain = preprocessing.normalize(Xtrain.numpy()), ytrain.numpy()\n",
        "Xtrain, ytrain = torch.Tensor(Xtrain), torch.Tensor(ytrain)\n",
        "\n",
        "Xtest, ytest = test_data.batch(5000).get_single_element()\n",
        "Xtest, ytest = preprocessing.normalize(Xtest.numpy()), ytest.numpy()\n",
        "Xtest, ytest = torch.Tensor(Xtest), torch.Tensor(ytest)"
      ]
    },
    {
      "cell_type": "code",
      "execution_count": null,
      "metadata": {
        "id": "Rg78pcyTCakD"
      },
      "outputs": [],
      "source": [
        "train_loader = DataLoader(dataset(Xtrain, ytrain), batch_size=128, shuffle=True)\n",
        "test_loader = DataLoader(dataset(Xtest, ytest), batch_size=128, shuffle=False)"
      ]
    },
    {
      "cell_type": "markdown",
      "metadata": {
        "id": "FK6RdPDQ6K7l"
      },
      "source": [
        "**Exercise 4**: write a `nn.Module` using the previous `SReLU`, and train it on the german_credit_numeric dataset."
      ]
    },
    {
      "cell_type": "code",
      "execution_count": null,
      "metadata": {
        "id": "vKnj9-AV6f38"
      },
      "outputs": [],
      "source": [
        "model = torch.nn.Sequential(OrderedDict([\n",
        "          \n",
        "          ('Linear1', torch.nn.Linear(24,10)),\n",
        "          ('SReLU1', SReLU(10)),\n",
        "          \n",
        "          ('Lin2', torch.nn.Linear(10, 10)),\n",
        "          ('SReLU2', SReLU(10)),\n",
        "          ('drop2', torch.nn.Dropout(p=0.5)),\n",
        "          \n",
        "          ('Linear3', torch.nn.Linear(10, 5)), \n",
        "          #('relu3', torch.nn.ReLU()),\n",
        "          ('SReLU3', SReLU(5)),\n",
        "\n",
        "          ('Linear4', torch.nn.Linear(5,1)),\n",
        "          ('Sigmoid', torch.nn.Sigmoid())\n",
        "        ]))\n",
        "\n",
        "criterion = torch.nn.BCELoss()\n",
        "optimizer = optim.Adam(model.parameters(), lr=0.001)"
      ]
    },
    {
      "cell_type": "code",
      "execution_count": null,
      "metadata": {
        "colab": {
          "base_uri": "https://localhost:8080/"
        },
        "id": "UtdJVYnBEPSy",
        "outputId": "888b43f3-705a-41e3-c3ec-23134d164264"
      },
      "outputs": [
        {
          "output_type": "execute_result",
          "data": {
            "text/plain": [
              "Sequential(\n",
              "  (Linear1): Linear(in_features=24, out_features=10, bias=True)\n",
              "  (SReLU1): SReLU()\n",
              "  (Lin2): Linear(in_features=10, out_features=10, bias=True)\n",
              "  (SReLU2): SReLU()\n",
              "  (drop2): Dropout(p=0.5, inplace=False)\n",
              "  (Linear3): Linear(in_features=10, out_features=5, bias=True)\n",
              "  (SReLU3): SReLU()\n",
              "  (Linear4): Linear(in_features=5, out_features=1, bias=True)\n",
              "  (Sigmoid): Sigmoid()\n",
              ")"
            ]
          },
          "metadata": {},
          "execution_count": 24
        }
      ],
      "source": [
        "losses = []\n",
        "epochs = 300\n",
        "model.train()\n",
        "for epoch in range(epochs): \n",
        "  epoch_loss = []\n",
        "  for i, data in enumerate(train_loader, 0):\n",
        "\n",
        "    inputs, labels = data\n",
        "    y_pred = model(inputs)\n",
        "    loss = criterion(y_pred, labels.unsqueeze(1))\n",
        "    \n",
        "    optimizer.zero_grad()\n",
        "    loss.backward()\n",
        "    optimizer.step()\n",
        "    epoch_loss.append(loss.detach().item())\n",
        "\n",
        "  losses.append(mean(epoch_loss))\n",
        "\n",
        "model.eval()"
      ]
    },
    {
      "cell_type": "code",
      "execution_count": null,
      "metadata": {
        "colab": {
          "base_uri": "https://localhost:8080/",
          "height": 298
        },
        "id": "7TziqM6WYYXo",
        "outputId": "da31d67d-2fa8-4df3-fa6e-5db44fdb9a6a"
      },
      "outputs": [
        {
          "output_type": "display_data",
          "data": {
            "text/plain": [
              "<Figure size 432x288 with 1 Axes>"
            ],
            "image/png": "[encoded data removed]"
          },
          "metadata": {
            "needs_background": "light"
          }
        },
        {
          "output_type": "stream",
          "name": "stdout",
          "text": [
            "ultimo valore loss : 0.4855262537797292\n"
          ]
        }
      ],
      "source": [
        "plt.plot(range(epochs), losses, 'orange')\n",
        "plt.title('loss funct')\n",
        "plt.show()\n",
        "print(f'ultimo valore loss : {losses[-1]}')\n"
      ]
    },
    {
      "cell_type": "code",
      "execution_count": null,
      "metadata": {
        "colab": {
          "base_uri": "https://localhost:8080/"
        },
        "id": "GFMSd36rYsQm",
        "outputId": "980ff018-61ac-4022-a5e5-55c1e9599a45"
      },
      "outputs": [
        {
          "output_type": "stream",
          "name": "stdout",
          "text": [
            "test accuracy   : 73.2\n",
            "train accuracy  : 77.2\n"
          ]
        }
      ],
      "source": [
        "acc_test = 0\n",
        "acc_train = 0\n",
        "\n",
        "with torch.no_grad():\n",
        "    for i, data in enumerate(test_loader):\n",
        "      inputs, labels = data\n",
        "      outputs = model(inputs)\n",
        "      outputs = [1 if outputs[i]>=0.5 else 0 for i in range(len(outputs))]\n",
        "      acc_test += sum([1 if outputs[i]==labels[i] else 0 for i in range(len(labels))])\n",
        "    \n",
        "    for i, data in enumerate(train_loader):\n",
        "      inputs, labels = data\n",
        "      outputs = model(inputs)\n",
        "      outputs = [1 if outputs[i]>=0.5 else 0 for i in range(len(outputs))]\n",
        "      acc_train += sum([1 if outputs[i]==labels[i] else 0 for i in range(len(labels))])\n",
        "\n",
        "print(f'test accuracy   : {acc_test*100/len(test_data)}')\n",
        "print(f'train accuracy  : {acc_train*100/len(train_data)}')\n"
      ]
    },
    {
      "cell_type": "markdown",
      "metadata": {
        "id": "EJFqN1rOXmML"
      },
      "source": []
    },
    {
      "cell_type": "markdown",
      "metadata": {
        "id": "m_b9dhJ06gjN"
      },
      "source": [
        "**Optionally**, you can plot the distribution (histogram) of the parameters after training."
      ]
    },
    {
      "cell_type": "code",
      "execution_count": null,
      "metadata": {
        "id": "lMBJAWFe6vOu"
      },
      "outputs": [],
      "source": [
        "# TODO: plot the histogram\n",
        "plt.hist( ... )"
      ]
    },
    {
      "cell_type": "markdown",
      "metadata": {
        "id": "nX48ZUcI9mFa"
      },
      "source": [
        "## Final checklist\n",
        "1. Carefully check all code. Insert comments when needed. Search for \"TODO\" to see if you forgot something.\n",
        "2. Run everything one final time. *Please do not send us notebooks with errors or cells that are not working.*\n",
        "3. Upload the completed notebook **before 30/11/2021 23:59** on the Google Classrom page."
      ]
    },
    {
      "cell_type": "markdown",
      "metadata": {
        "id": "Rl9dZ3HambSz"
      },
      "source": [
        "### References\n",
        "\n",
        "[1] Apicella, A., Donnarumma, F., Isgrò, F. and Prevete, R., 2021. [A survey on modern trainable activation functions](https://arxiv.org/abs/2005.00817).\n",
        "\n",
        "[2] Jin, X., Xu, C., Feng, J., Wei, Y., Xiong, J. and Yan, S., 2016. [Deep learning with s-shaped rectified linear activation units](https://arxiv.org/abs/1512.07030). In Proceedings of the AAAI Conference on Artificial Intelligence (Vol. 30, No. 1)."
      ]
    }
  ],
  "metadata": {
    "colab": {
      "collapsed_sections": [
        "wAEgygyPfO7b",
        "Rl9dZ3HambSz"
      ],
      "provenance": []
    },
    "gpuClass": "standard",
    "kernelspec": {
      "display_name": "Python 3",
      "name": "python3"
    },
    "widgets": {
      "application/vnd.jupyter.widget-state+json": {
        "76cd3bf32b814994a3b62d9387b8d4d3": {
          "model_module": "@jupyter-widgets/controls",
          "model_name": "HBoxModel",
          "model_module_version": "1.5.0",
          "state": {
            "_dom_classes": [],
            "_model_module": "@jupyter-widgets/controls",
            "_model_module_version": "1.5.0",
            "_model_name": "HBoxModel",
            "_view_count": null,
            "_view_module": "@jupyter-widgets/controls",
            "_view_module_version": "1.5.0",
            "_view_name": "HBoxView",
            "box_style": "",
            "children": [
              "IPY_MODEL_e8cf9e329b554790975afeb4039ba757",
              "IPY_MODEL_008b07fdc96a4002ac2beca1a9f7d0be",
              "IPY_MODEL_ab7891e8262b4c75a4fcb572f77a2d16"
            ],
            "layout": "IPY_MODEL_c6e5cf4d54da4bdd8dbab54b9d3203ea"
          }
        },
        "e8cf9e329b554790975afeb4039ba757": {
          "model_module": "@jupyter-widgets/controls",
          "model_name": "HTMLModel",
          "model_module_version": "1.5.0",
          "state": {
            "_dom_classes": [],
            "_model_module": "@jupyter-widgets/controls",
            "_model_module_version": "1.5.0",
            "_model_name": "HTMLModel",
            "_view_count": null,
            "_view_module": "@jupyter-widgets/controls",
            "_view_module_version": "1.5.0",
            "_view_name": "HTMLView",
            "description": "",
            "description_tooltip": null,
            "layout": "IPY_MODEL_7aee557abc584b8abdb0bbf2e1419159",
            "placeholder": "​",
            "style": "IPY_MODEL_caf10268f0bf450e9c70b472019122a4",
            "value": "Dl Completed...: 100%"
          }
        },
        "008b07fdc96a4002ac2beca1a9f7d0be": {
          "model_module": "@jupyter-widgets/controls",
          "model_name": "FloatProgressModel",
          "model_module_version": "1.5.0",
          "state": {
            "_dom_classes": [],
            "_model_module": "@jupyter-widgets/controls",
            "_model_module_version": "1.5.0",
            "_model_name": "FloatProgressModel",
            "_view_count": null,
            "_view_module": "@jupyter-widgets/controls",
            "_view_module_version": "1.5.0",
            "_view_name": "ProgressView",
            "bar_style": "success",
            "description": "",
            "description_tooltip": null,
            "layout": "IPY_MODEL_0af801d24cdd4693abb1b46eda9e0fe7",
            "max": 1,
            "min": 0,
            "orientation": "horizontal",
            "style": "IPY_MODEL_e7b142fe0c354835b6b555b7e7fff1df",
            "value": 1
          }
        },
        "ab7891e8262b4c75a4fcb572f77a2d16": {
          "model_module": "@jupyter-widgets/controls",
          "model_name": "HTMLModel",
          "model_module_version": "1.5.0",
          "state": {
            "_dom_classes": [],
            "_model_module": "@jupyter-widgets/controls",
            "_model_module_version": "1.5.0",
            "_model_name": "HTMLModel",
            "_view_count": null,
            "_view_module": "@jupyter-widgets/controls",
            "_view_module_version": "1.5.0",
            "_view_name": "HTMLView",
            "description": "",
            "description_tooltip": null,
            "layout": "IPY_MODEL_080ad4c5b61d4d5eb3c6c26fa3130dc5",
            "placeholder": "​",
            "style": "IPY_MODEL_de47594d5dc64ab19d39968fccfed4db",
            "value": " 1/1 [00:00&lt;00:00,  2.21 url/s]"
          }
        },
        "c6e5cf4d54da4bdd8dbab54b9d3203ea": {
          "model_module": "@jupyter-widgets/base",
          "model_name": "LayoutModel",
          "model_module_version": "1.2.0",
          "state": {
            "_model_module": "@jupyter-widgets/base",
            "_model_module_version": "1.2.0",
            "_model_name": "LayoutModel",
            "_view_count": null,
            "_view_module": "@jupyter-widgets/base",
            "_view_module_version": "1.2.0",
            "_view_name": "LayoutView",
            "align_content": null,
            "align_items": null,
            "align_self": null,
            "border": null,
            "bottom": null,
            "display": null,
            "flex": null,
            "flex_flow": null,
            "grid_area": null,
            "grid_auto_columns": null,
            "grid_auto_flow": null,
            "grid_auto_rows": null,
            "grid_column": null,
            "grid_gap": null,
            "grid_row": null,
            "grid_template_areas": null,
            "grid_template_columns": null,
            "grid_template_rows": null,
            "height": null,
            "justify_content": null,
            "justify_items": null,
            "left": null,
            "margin": null,
            "max_height": null,
            "max_width": null,
            "min_height": null,
            "min_width": null,
            "object_fit": null,
            "object_position": null,
            "order": null,
            "overflow": null,
            "overflow_x": null,
            "overflow_y": null,
            "padding": null,
            "right": null,
            "top": null,
            "visibility": null,
            "width": null
          }
        },
        "7aee557abc584b8abdb0bbf2e1419159": {
          "model_module": "@jupyter-widgets/base",
          "model_name": "LayoutModel",
          "model_module_version": "1.2.0",
          "state": {
            "_model_module": "@jupyter-widgets/base",
            "_model_module_version": "1.2.0",
            "_model_name": "LayoutModel",
            "_view_count": null,
            "_view_module": "@jupyter-widgets/base",
            "_view_module_version": "1.2.0",
            "_view_name": "LayoutView",
            "align_content": null,
            "align_items": null,
            "align_self": null,
            "border": null,
            "bottom": null,
            "display": null,
            "flex": null,
            "flex_flow": null,
            "grid_area": null,
            "grid_auto_columns": null,
            "grid_auto_flow": null,
            "grid_auto_rows": null,
            "grid_column": null,
            "grid_gap": null,
            "grid_row": null,
            "grid_template_areas": null,
            "grid_template_columns": null,
            "grid_template_rows": null,
            "height": null,
            "justify_content": null,
            "justify_items": null,
            "left": null,
            "margin": null,
            "max_height": null,
            "max_width": null,
            "min_height": null,
            "min_width": null,
            "object_fit": null,
            "object_position": null,
            "order": null,
            "overflow": null,
            "overflow_x": null,
            "overflow_y": null,
            "padding": null,
            "right": null,
            "top": null,
            "visibility": null,
            "width": null
          }
        },
        "caf10268f0bf450e9c70b472019122a4": {
          "model_module": "@jupyter-widgets/controls",
          "model_name": "DescriptionStyleModel",
          "model_module_version": "1.5.0",
          "state": {
            "_model_module": "@jupyter-widgets/controls",
            "_model_module_version": "1.5.0",
            "_model_name": "DescriptionStyleModel",
            "_view_count": null,
            "_view_module": "@jupyter-widgets/base",
            "_view_module_version": "1.2.0",
            "_view_name": "StyleView",
            "description_width": ""
          }
        },
        "0af801d24cdd4693abb1b46eda9e0fe7": {
          "model_module": "@jupyter-widgets/base",
          "model_name": "LayoutModel",
          "model_module_version": "1.2.0",
          "state": {
            "_model_module": "@jupyter-widgets/base",
            "_model_module_version": "1.2.0",
            "_model_name": "LayoutModel",
            "_view_count": null,
            "_view_module": "@jupyter-widgets/base",
            "_view_module_version": "1.2.0",
            "_view_name": "LayoutView",
            "align_content": null,
            "align_items": null,
            "align_self": null,
            "border": null,
            "bottom": null,
            "display": null,
            "flex": null,
            "flex_flow": null,
            "grid_area": null,
            "grid_auto_columns": null,
            "grid_auto_flow": null,
            "grid_auto_rows": null,
            "grid_column": null,
            "grid_gap": null,
            "grid_row": null,
            "grid_template_areas": null,
            "grid_template_columns": null,
            "grid_template_rows": null,
            "height": null,
            "justify_content": null,
            "justify_items": null,
            "left": null,
            "margin": null,
            "max_height": null,
            "max_width": null,
            "min_height": null,
            "min_width": null,
            "object_fit": null,
            "object_position": null,
            "order": null,
            "overflow": null,
            "overflow_x": null,
            "overflow_y": null,
            "padding": null,
            "right": null,
            "top": null,
            "visibility": null,
            "width": "20px"
          }
        },
        "e7b142fe0c354835b6b555b7e7fff1df": {
          "model_module": "@jupyter-widgets/controls",
          "model_name": "ProgressStyleModel",
          "model_module_version": "1.5.0",
          "state": {
            "_model_module": "@jupyter-widgets/controls",
            "_model_module_version": "1.5.0",
            "_model_name": "ProgressStyleModel",
            "_view_count": null,
            "_view_module": "@jupyter-widgets/base",
            "_view_module_version": "1.2.0",
            "_view_name": "StyleView",
            "bar_color": null,
            "description_width": ""
          }
        },
        "080ad4c5b61d4d5eb3c6c26fa3130dc5": {
          "model_module": "@jupyter-widgets/base",
          "model_name": "LayoutModel",
          "model_module_version": "1.2.0",
          "state": {
            "_model_module": "@jupyter-widgets/base",
            "_model_module_version": "1.2.0",
            "_model_name": "LayoutModel",
            "_view_count": null,
            "_view_module": "@jupyter-widgets/base",
            "_view_module_version": "1.2.0",
            "_view_name": "LayoutView",
            "align_content": null,
            "align_items": null,
            "align_self": null,
            "border": null,
            "bottom": null,
            "display": null,
            "flex": null,
            "flex_flow": null,
            "grid_area": null,
            "grid_auto_columns": null,
            "grid_auto_flow": null,
            "grid_auto_rows": null,
            "grid_column": null,
            "grid_gap": null,
            "grid_row": null,
            "grid_template_areas": null,
            "grid_template_columns": null,
            "grid_template_rows": null,
            "height": null,
            "justify_content": null,
            "justify_items": null,
            "left": null,
            "margin": null,
            "max_height": null,
            "max_width": null,
            "min_height": null,
            "min_width": null,
            "object_fit": null,
            "object_position": null,
            "order": null,
            "overflow": null,
            "overflow_x": null,
            "overflow_y": null,
            "padding": null,
            "right": null,
            "top": null,
            "visibility": null,
            "width": null
          }
        },
        "de47594d5dc64ab19d39968fccfed4db": {
          "model_module": "@jupyter-widgets/controls",
          "model_name": "DescriptionStyleModel",
          "model_module_version": "1.5.0",
          "state": {
            "_model_module": "@jupyter-widgets/controls",
            "_model_module_version": "1.5.0",
            "_model_name": "DescriptionStyleModel",
            "_view_count": null,
            "_view_module": "@jupyter-widgets/base",
            "_view_module_version": "1.2.0",
            "_view_name": "StyleView",
            "description_width": ""
          }
        },
        "851d8034a8ee4370a2f61ab79eda6647": {
          "model_module": "@jupyter-widgets/controls",
          "model_name": "HBoxModel",
          "model_module_version": "1.5.0",
          "state": {
            "_dom_classes": [],
            "_model_module": "@jupyter-widgets/controls",
            "_model_module_version": "1.5.0",
            "_model_name": "HBoxModel",
            "_view_count": null,
            "_view_module": "@jupyter-widgets/controls",
            "_view_module_version": "1.5.0",
            "_view_name": "HBoxView",
            "box_style": "",
            "children": [
              "IPY_MODEL_6fc44c12dfb84fed89d1f0f9ea4305e8",
              "IPY_MODEL_9c5b75b8c8604ac38a35be63b77a0d97",
              "IPY_MODEL_a77bcf7be0474c889610da8c32991226"
            ],
            "layout": "IPY_MODEL_4feb171f0f0d469fa0d27ac591704831"
          }
        },
        "6fc44c12dfb84fed89d1f0f9ea4305e8": {
          "model_module": "@jupyter-widgets/controls",
          "model_name": "HTMLModel",
          "model_module_version": "1.5.0",
          "state": {
            "_dom_classes": [],
            "_model_module": "@jupyter-widgets/controls",
            "_model_module_version": "1.5.0",
            "_model_name": "HTMLModel",
            "_view_count": null,
            "_view_module": "@jupyter-widgets/controls",
            "_view_module_version": "1.5.0",
            "_view_name": "HTMLView",
            "description": "",
            "description_tooltip": null,
            "layout": "IPY_MODEL_60cfa7df9d1f4809aef22641da82f2b1",
            "placeholder": "​",
            "style": "IPY_MODEL_c748036e563f4952a1938a2b03fd5811",
            "value": "Dl Size...: "
          }
        },
        "9c5b75b8c8604ac38a35be63b77a0d97": {
          "model_module": "@jupyter-widgets/controls",
          "model_name": "FloatProgressModel",
          "model_module_version": "1.5.0",
          "state": {
            "_dom_classes": [],
            "_model_module": "@jupyter-widgets/controls",
            "_model_module_version": "1.5.0",
            "_model_name": "FloatProgressModel",
            "_view_count": null,
            "_view_module": "@jupyter-widgets/controls",
            "_view_module_version": "1.5.0",
            "_view_name": "ProgressView",
            "bar_style": "success",
            "description": "",
            "description_tooltip": null,
            "layout": "IPY_MODEL_653536b09edf40f78489c96feb30055f",
            "max": 1,
            "min": 0,
            "orientation": "horizontal",
            "style": "IPY_MODEL_ee9683900bfe4497957fdcf28cc6f1e6",
            "value": 0
          }
        },
        "a77bcf7be0474c889610da8c32991226": {
          "model_module": "@jupyter-widgets/controls",
          "model_name": "HTMLModel",
          "model_module_version": "1.5.0",
          "state": {
            "_dom_classes": [],
            "_model_module": "@jupyter-widgets/controls",
            "_model_module_version": "1.5.0",
            "_model_name": "HTMLModel",
            "_view_count": null,
            "_view_module": "@jupyter-widgets/controls",
            "_view_module_version": "1.5.0",
            "_view_name": "HTMLView",
            "description": "",
            "description_tooltip": null,
            "layout": "IPY_MODEL_ffb3c83cfaef48b097e3ae17e6d09927",
            "placeholder": "​",
            "style": "IPY_MODEL_f6849f2fc6a042aeb179c27006200d47",
            "value": " 0/0 [00:00&lt;?, ? MiB/s]"
          }
        },
        "4feb171f0f0d469fa0d27ac591704831": {
          "model_module": "@jupyter-widgets/base",
          "model_name": "LayoutModel",
          "model_module_version": "1.2.0",
          "state": {
            "_model_module": "@jupyter-widgets/base",
            "_model_module_version": "1.2.0",
            "_model_name": "LayoutModel",
            "_view_count": null,
            "_view_module": "@jupyter-widgets/base",
            "_view_module_version": "1.2.0",
            "_view_name": "LayoutView",
            "align_content": null,
            "align_items": null,
            "align_self": null,
            "border": null,
            "bottom": null,
            "display": null,
            "flex": null,
            "flex_flow": null,
            "grid_area": null,
            "grid_auto_columns": null,
            "grid_auto_flow": null,
            "grid_auto_rows": null,
            "grid_column": null,
            "grid_gap": null,
            "grid_row": null,
            "grid_template_areas": null,
            "grid_template_columns": null,
            "grid_template_rows": null,
            "height": null,
            "justify_content": null,
            "justify_items": null,
            "left": null,
            "margin": null,
            "max_height": null,
            "max_width": null,
            "min_height": null,
            "min_width": null,
            "object_fit": null,
            "object_position": null,
            "order": null,
            "overflow": null,
            "overflow_x": null,
            "overflow_y": null,
            "padding": null,
            "right": null,
            "top": null,
            "visibility": null,
            "width": null
          }
        },
        "60cfa7df9d1f4809aef22641da82f2b1": {
          "model_module": "@jupyter-widgets/base",
          "model_name": "LayoutModel",
          "model_module_version": "1.2.0",
          "state": {
            "_model_module": "@jupyter-widgets/base",
            "_model_module_version": "1.2.0",
            "_model_name": "LayoutModel",
            "_view_count": null,
            "_view_module": "@jupyter-widgets/base",
            "_view_module_version": "1.2.0",
            "_view_name": "LayoutView",
            "align_content": null,
            "align_items": null,
            "align_self": null,
            "border": null,
            "bottom": null,
            "display": null,
            "flex": null,
            "flex_flow": null,
            "grid_area": null,
            "grid_auto_columns": null,
            "grid_auto_flow": null,
            "grid_auto_rows": null,
            "grid_column": null,
            "grid_gap": null,
            "grid_row": null,
            "grid_template_areas": null,
            "grid_template_columns": null,
            "grid_template_rows": null,
            "height": null,
            "justify_content": null,
            "justify_items": null,
            "left": null,
            "margin": null,
            "max_height": null,
            "max_width": null,
            "min_height": null,
            "min_width": null,
            "object_fit": null,
            "object_position": null,
            "order": null,
            "overflow": null,
            "overflow_x": null,
            "overflow_y": null,
            "padding": null,
            "right": null,
            "top": null,
            "visibility": null,
            "width": null
          }
        },
        "c748036e563f4952a1938a2b03fd5811": {
          "model_module": "@jupyter-widgets/controls",
          "model_name": "DescriptionStyleModel",
          "model_module_version": "1.5.0",
          "state": {
            "_model_module": "@jupyter-widgets/controls",
            "_model_module_version": "1.5.0",
            "_model_name": "DescriptionStyleModel",
            "_view_count": null,
            "_view_module": "@jupyter-widgets/base",
            "_view_module_version": "1.2.0",
            "_view_name": "StyleView",
            "description_width": ""
          }
        },
        "653536b09edf40f78489c96feb30055f": {
          "model_module": "@jupyter-widgets/base",
          "model_name": "LayoutModel",
          "model_module_version": "1.2.0",
          "state": {
            "_model_module": "@jupyter-widgets/base",
            "_model_module_version": "1.2.0",
            "_model_name": "LayoutModel",
            "_view_count": null,
            "_view_module": "@jupyter-widgets/base",
            "_view_module_version": "1.2.0",
            "_view_name": "LayoutView",
            "align_content": null,
            "align_items": null,
            "align_self": null,
            "border": null,
            "bottom": null,
            "display": null,
            "flex": null,
            "flex_flow": null,
            "grid_area": null,
            "grid_auto_columns": null,
            "grid_auto_flow": null,
            "grid_auto_rows": null,
            "grid_column": null,
            "grid_gap": null,
            "grid_row": null,
            "grid_template_areas": null,
            "grid_template_columns": null,
            "grid_template_rows": null,
            "height": null,
            "justify_content": null,
            "justify_items": null,
            "left": null,
            "margin": null,
            "max_height": null,
            "max_width": null,
            "min_height": null,
            "min_width": null,
            "object_fit": null,
            "object_position": null,
            "order": null,
            "overflow": null,
            "overflow_x": null,
            "overflow_y": null,
            "padding": null,
            "right": null,
            "top": null,
            "visibility": null,
            "width": "20px"
          }
        },
        "ee9683900bfe4497957fdcf28cc6f1e6": {
          "model_module": "@jupyter-widgets/controls",
          "model_name": "ProgressStyleModel",
          "model_module_version": "1.5.0",
          "state": {
            "_model_module": "@jupyter-widgets/controls",
            "_model_module_version": "1.5.0",
            "_model_name": "ProgressStyleModel",
            "_view_count": null,
            "_view_module": "@jupyter-widgets/base",
            "_view_module_version": "1.2.0",
            "_view_name": "StyleView",
            "bar_color": null,
            "description_width": ""
          }
        },
        "ffb3c83cfaef48b097e3ae17e6d09927": {
          "model_module": "@jupyter-widgets/base",
          "model_name": "LayoutModel",
          "model_module_version": "1.2.0",
          "state": {
            "_model_module": "@jupyter-widgets/base",
            "_model_module_version": "1.2.0",
            "_model_name": "LayoutModel",
            "_view_count": null,
            "_view_module": "@jupyter-widgets/base",
            "_view_module_version": "1.2.0",
            "_view_name": "LayoutView",
            "align_content": null,
            "align_items": null,
            "align_self": null,
            "border": null,
            "bottom": null,
            "display": null,
            "flex": null,
            "flex_flow": null,
            "grid_area": null,
            "grid_auto_columns": null,
            "grid_auto_flow": null,
            "grid_auto_rows": null,
            "grid_column": null,
            "grid_gap": null,
            "grid_row": null,
            "grid_template_areas": null,
            "grid_template_columns": null,
            "grid_template_rows": null,
            "height": null,
            "justify_content": null,
            "justify_items": null,
            "left": null,
            "margin": null,
            "max_height": null,
            "max_width": null,
            "min_height": null,
            "min_width": null,
            "object_fit": null,
            "object_position": null,
            "order": null,
            "overflow": null,
            "overflow_x": null,
            "overflow_y": null,
            "padding": null,
            "right": null,
            "top": null,
            "visibility": null,
            "width": null
          }
        },
        "f6849f2fc6a042aeb179c27006200d47": {
          "model_module": "@jupyter-widgets/controls",
          "model_name": "DescriptionStyleModel",
          "model_module_version": "1.5.0",
          "state": {
            "_model_module": "@jupyter-widgets/controls",
            "_model_module_version": "1.5.0",
            "_model_name": "DescriptionStyleModel",
            "_view_count": null,
            "_view_module": "@jupyter-widgets/base",
            "_view_module_version": "1.2.0",
            "_view_name": "StyleView",
            "description_width": ""
          }
        },
        "833dd5cdfe664dd3a6ec6b9bcb137f75": {
          "model_module": "@jupyter-widgets/controls",
          "model_name": "HBoxModel",
          "model_module_version": "1.5.0",
          "state": {
            "_dom_classes": [],
            "_model_module": "@jupyter-widgets/controls",
            "_model_module_version": "1.5.0",
            "_model_name": "HBoxModel",
            "_view_count": null,
            "_view_module": "@jupyter-widgets/controls",
            "_view_module_version": "1.5.0",
            "_view_name": "HBoxView",
            "box_style": "",
            "children": [
              "IPY_MODEL_afd659d3578b49cb8299ae67b9a86a02",
              "IPY_MODEL_07bacd156f87482db28235eac19c5597",
              "IPY_MODEL_d551c0b12d8e47eb8a203319314582c8"
            ],
            "layout": "IPY_MODEL_bcd78433f56f4201b71f20b2f14acbcd"
          }
        },
        "afd659d3578b49cb8299ae67b9a86a02": {
          "model_module": "@jupyter-widgets/controls",
          "model_name": "HTMLModel",
          "model_module_version": "1.5.0",
          "state": {
            "_dom_classes": [],
            "_model_module": "@jupyter-widgets/controls",
            "_model_module_version": "1.5.0",
            "_model_name": "HTMLModel",
            "_view_count": null,
            "_view_module": "@jupyter-widgets/controls",
            "_view_module_version": "1.5.0",
            "_view_name": "HTMLView",
            "description": "",
            "description_tooltip": null,
            "layout": "IPY_MODEL_834c9a34933e44d48059cd2d2b075076",
            "placeholder": "​",
            "style": "IPY_MODEL_48197e0c63c34739811d0fc76de4e8ea",
            "value": "Generating splits...: 100%"
          }
        },
        "07bacd156f87482db28235eac19c5597": {
          "model_module": "@jupyter-widgets/controls",
          "model_name": "FloatProgressModel",
          "model_module_version": "1.5.0",
          "state": {
            "_dom_classes": [],
            "_model_module": "@jupyter-widgets/controls",
            "_model_module_version": "1.5.0",
            "_model_name": "FloatProgressModel",
            "_view_count": null,
            "_view_module": "@jupyter-widgets/controls",
            "_view_module_version": "1.5.0",
            "_view_name": "ProgressView",
            "bar_style": "",
            "description": "",
            "description_tooltip": null,
            "layout": "IPY_MODEL_c1a13466807d408b9e1575b238fb22af",
            "max": 1,
            "min": 0,
            "orientation": "horizontal",
            "style": "IPY_MODEL_20d069df08884162bac03ed46a44201e",
            "value": 1
          }
        },
        "d551c0b12d8e47eb8a203319314582c8": {
          "model_module": "@jupyter-widgets/controls",
          "model_name": "HTMLModel",
          "model_module_version": "1.5.0",
          "state": {
            "_dom_classes": [],
            "_model_module": "@jupyter-widgets/controls",
            "_model_module_version": "1.5.0",
            "_model_name": "HTMLModel",
            "_view_count": null,
            "_view_module": "@jupyter-widgets/controls",
            "_view_module_version": "1.5.0",
            "_view_name": "HTMLView",
            "description": "",
            "description_tooltip": null,
            "layout": "IPY_MODEL_e252357a61ce47f3852151542c1396fe",
            "placeholder": "​",
            "style": "IPY_MODEL_7cf2656e58fe434ea108dcb70a6bd8c6",
            "value": " 1/1 [00:00&lt;00:00,  3.80 splits/s]"
          }
        },
        "bcd78433f56f4201b71f20b2f14acbcd": {
          "model_module": "@jupyter-widgets/base",
          "model_name": "LayoutModel",
          "model_module_version": "1.2.0",
          "state": {
            "_model_module": "@jupyter-widgets/base",
            "_model_module_version": "1.2.0",
            "_model_name": "LayoutModel",
            "_view_count": null,
            "_view_module": "@jupyter-widgets/base",
            "_view_module_version": "1.2.0",
            "_view_name": "LayoutView",
            "align_content": null,
            "align_items": null,
            "align_self": null,
            "border": null,
            "bottom": null,
            "display": null,
            "flex": null,
            "flex_flow": null,
            "grid_area": null,
            "grid_auto_columns": null,
            "grid_auto_flow": null,
            "grid_auto_rows": null,
            "grid_column": null,
            "grid_gap": null,
            "grid_row": null,
            "grid_template_areas": null,
            "grid_template_columns": null,
            "grid_template_rows": null,
            "height": null,
            "justify_content": null,
            "justify_items": null,
            "left": null,
            "margin": null,
            "max_height": null,
            "max_width": null,
            "min_height": null,
            "min_width": null,
            "object_fit": null,
            "object_position": null,
            "order": null,
            "overflow": null,
            "overflow_x": null,
            "overflow_y": null,
            "padding": null,
            "right": null,
            "top": null,
            "visibility": "hidden",
            "width": null
          }
        },
        "834c9a34933e44d48059cd2d2b075076": {
          "model_module": "@jupyter-widgets/base",
          "model_name": "LayoutModel",
          "model_module_version": "1.2.0",
          "state": {
            "_model_module": "@jupyter-widgets/base",
            "_model_module_version": "1.2.0",
            "_model_name": "LayoutModel",
            "_view_count": null,
            "_view_module": "@jupyter-widgets/base",
            "_view_module_version": "1.2.0",
            "_view_name": "LayoutView",
            "align_content": null,
            "align_items": null,
            "align_self": null,
            "border": null,
            "bottom": null,
            "display": null,
            "flex": null,
            "flex_flow": null,
            "grid_area": null,
            "grid_auto_columns": null,
            "grid_auto_flow": null,
            "grid_auto_rows": null,
            "grid_column": null,
            "grid_gap": null,
            "grid_row": null,
            "grid_template_areas": null,
            "grid_template_columns": null,
            "grid_template_rows": null,
            "height": null,
            "justify_content": null,
            "justify_items": null,
            "left": null,
            "margin": null,
            "max_height": null,
            "max_width": null,
            "min_height": null,
            "min_width": null,
            "object_fit": null,
            "object_position": null,
            "order": null,
            "overflow": null,
            "overflow_x": null,
            "overflow_y": null,
            "padding": null,
            "right": null,
            "top": null,
            "visibility": null,
            "width": null
          }
        },
        "48197e0c63c34739811d0fc76de4e8ea": {
          "model_module": "@jupyter-widgets/controls",
          "model_name": "DescriptionStyleModel",
          "model_module_version": "1.5.0",
          "state": {
            "_model_module": "@jupyter-widgets/controls",
            "_model_module_version": "1.5.0",
            "_model_name": "DescriptionStyleModel",
            "_view_count": null,
            "_view_module": "@jupyter-widgets/base",
            "_view_module_version": "1.2.0",
            "_view_name": "StyleView",
            "description_width": ""
          }
        },
        "c1a13466807d408b9e1575b238fb22af": {
          "model_module": "@jupyter-widgets/base",
          "model_name": "LayoutModel",
          "model_module_version": "1.2.0",
          "state": {
            "_model_module": "@jupyter-widgets/base",
            "_model_module_version": "1.2.0",
            "_model_name": "LayoutModel",
            "_view_count": null,
            "_view_module": "@jupyter-widgets/base",
            "_view_module_version": "1.2.0",
            "_view_name": "LayoutView",
            "align_content": null,
            "align_items": null,
            "align_self": null,
            "border": null,
            "bottom": null,
            "display": null,
            "flex": null,
            "flex_flow": null,
            "grid_area": null,
            "grid_auto_columns": null,
            "grid_auto_flow": null,
            "grid_auto_rows": null,
            "grid_column": null,
            "grid_gap": null,
            "grid_row": null,
            "grid_template_areas": null,
            "grid_template_columns": null,
            "grid_template_rows": null,
            "height": null,
            "justify_content": null,
            "justify_items": null,
            "left": null,
            "margin": null,
            "max_height": null,
            "max_width": null,
            "min_height": null,
            "min_width": null,
            "object_fit": null,
            "object_position": null,
            "order": null,
            "overflow": null,
            "overflow_x": null,
            "overflow_y": null,
            "padding": null,
            "right": null,
            "top": null,
            "visibility": null,
            "width": null
          }
        },
        "20d069df08884162bac03ed46a44201e": {
          "model_module": "@jupyter-widgets/controls",
          "model_name": "ProgressStyleModel",
          "model_module_version": "1.5.0",
          "state": {
            "_model_module": "@jupyter-widgets/controls",
            "_model_module_version": "1.5.0",
            "_model_name": "ProgressStyleModel",
            "_view_count": null,
            "_view_module": "@jupyter-widgets/base",
            "_view_module_version": "1.2.0",
            "_view_name": "StyleView",
            "bar_color": null,
            "description_width": ""
          }
        },
        "e252357a61ce47f3852151542c1396fe": {
          "model_module": "@jupyter-widgets/base",
          "model_name": "LayoutModel",
          "model_module_version": "1.2.0",
          "state": {
            "_model_module": "@jupyter-widgets/base",
            "_model_module_version": "1.2.0",
            "_model_name": "LayoutModel",
            "_view_count": null,
            "_view_module": "@jupyter-widgets/base",
            "_view_module_version": "1.2.0",
            "_view_name": "LayoutView",
            "align_content": null,
            "align_items": null,
            "align_self": null,
            "border": null,
            "bottom": null,
            "display": null,
            "flex": null,
            "flex_flow": null,
            "grid_area": null,
            "grid_auto_columns": null,
            "grid_auto_flow": null,
            "grid_auto_rows": null,
            "grid_column": null,
            "grid_gap": null,
            "grid_row": null,
            "grid_template_areas": null,
            "grid_template_columns": null,
            "grid_template_rows": null,
            "height": null,
            "justify_content": null,
            "justify_items": null,
            "left": null,
            "margin": null,
            "max_height": null,
            "max_width": null,
            "min_height": null,
            "min_width": null,
            "object_fit": null,
            "object_position": null,
            "order": null,
            "overflow": null,
            "overflow_x": null,
            "overflow_y": null,
            "padding": null,
            "right": null,
            "top": null,
            "visibility": null,
            "width": null
          }
        },
        "7cf2656e58fe434ea108dcb70a6bd8c6": {
          "model_module": "@jupyter-widgets/controls",
          "model_name": "DescriptionStyleModel",
          "model_module_version": "1.5.0",
          "state": {
            "_model_module": "@jupyter-widgets/controls",
            "_model_module_version": "1.5.0",
            "_model_name": "DescriptionStyleModel",
            "_view_count": null,
            "_view_module": "@jupyter-widgets/base",
            "_view_module_version": "1.2.0",
            "_view_name": "StyleView",
            "description_width": ""
          }
        },
        "e0f481da504f4326a906699e5404cc39": {
          "model_module": "@jupyter-widgets/controls",
          "model_name": "HBoxModel",
          "model_module_version": "1.5.0",
          "state": {
            "_dom_classes": [],
            "_model_module": "@jupyter-widgets/controls",
            "_model_module_version": "1.5.0",
            "_model_name": "HBoxModel",
            "_view_count": null,
            "_view_module": "@jupyter-widgets/controls",
            "_view_module_version": "1.5.0",
            "_view_name": "HBoxView",
            "box_style": "",
            "children": [
              "IPY_MODEL_5dfea2b19ef849e48d22328977476c0a",
              "IPY_MODEL_67d081ca452543a28d4e6cf205b40f6a",
              "IPY_MODEL_a1a8ac1fdac544e6b4d8520a878c3d8a"
            ],
            "layout": "IPY_MODEL_7fe9307d8bd543a4a409b0729a7a62ba"
          }
        },
        "5dfea2b19ef849e48d22328977476c0a": {
          "model_module": "@jupyter-widgets/controls",
          "model_name": "HTMLModel",
          "model_module_version": "1.5.0",
          "state": {
            "_dom_classes": [],
            "_model_module": "@jupyter-widgets/controls",
            "_model_module_version": "1.5.0",
            "_model_name": "HTMLModel",
            "_view_count": null,
            "_view_module": "@jupyter-widgets/controls",
            "_view_module_version": "1.5.0",
            "_view_name": "HTMLView",
            "description": "",
            "description_tooltip": null,
            "layout": "IPY_MODEL_f88dbb487ef64339b5b42f99beb2fc40",
            "placeholder": "​",
            "style": "IPY_MODEL_9cf05a6b976a436693c06e38c576e477",
            "value": "Generating train examples...:  36%"
          }
        },
        "67d081ca452543a28d4e6cf205b40f6a": {
          "model_module": "@jupyter-widgets/controls",
          "model_name": "FloatProgressModel",
          "model_module_version": "1.5.0",
          "state": {
            "_dom_classes": [],
            "_model_module": "@jupyter-widgets/controls",
            "_model_module_version": "1.5.0",
            "_model_name": "FloatProgressModel",
            "_view_count": null,
            "_view_module": "@jupyter-widgets/controls",
            "_view_module_version": "1.5.0",
            "_view_name": "ProgressView",
            "bar_style": "",
            "description": "",
            "description_tooltip": null,
            "layout": "IPY_MODEL_f971b940a3094448afe017314aacaa77",
            "max": 1000,
            "min": 0,
            "orientation": "horizontal",
            "style": "IPY_MODEL_9837fca54727463caeeb427518bf97d3",
            "value": 1000
          }
        },
        "a1a8ac1fdac544e6b4d8520a878c3d8a": {
          "model_module": "@jupyter-widgets/controls",
          "model_name": "HTMLModel",
          "model_module_version": "1.5.0",
          "state": {
            "_dom_classes": [],
            "_model_module": "@jupyter-widgets/controls",
            "_model_module_version": "1.5.0",
            "_model_name": "HTMLModel",
            "_view_count": null,
            "_view_module": "@jupyter-widgets/controls",
            "_view_module_version": "1.5.0",
            "_view_name": "HTMLView",
            "description": "",
            "description_tooltip": null,
            "layout": "IPY_MODEL_da0047e75f1f4420b2369958545d6e54",
            "placeholder": "​",
            "style": "IPY_MODEL_32016a60ed0c428abdd103f3f7251ba2",
            "value": " 362/1000 [00:00&lt;00:00, 3616.82 examples/s]"
          }
        },
        "7fe9307d8bd543a4a409b0729a7a62ba": {
          "model_module": "@jupyter-widgets/base",
          "model_name": "LayoutModel",
          "model_module_version": "1.2.0",
          "state": {
            "_model_module": "@jupyter-widgets/base",
            "_model_module_version": "1.2.0",
            "_model_name": "LayoutModel",
            "_view_count": null,
            "_view_module": "@jupyter-widgets/base",
            "_view_module_version": "1.2.0",
            "_view_name": "LayoutView",
            "align_content": null,
            "align_items": null,
            "align_self": null,
            "border": null,
            "bottom": null,
            "display": null,
            "flex": null,
            "flex_flow": null,
            "grid_area": null,
            "grid_auto_columns": null,
            "grid_auto_flow": null,
            "grid_auto_rows": null,
            "grid_column": null,
            "grid_gap": null,
            "grid_row": null,
            "grid_template_areas": null,
            "grid_template_columns": null,
            "grid_template_rows": null,
            "height": null,
            "justify_content": null,
            "justify_items": null,
            "left": null,
            "margin": null,
            "max_height": null,
            "max_width": null,
            "min_height": null,
            "min_width": null,
            "object_fit": null,
            "object_position": null,
            "order": null,
            "overflow": null,
            "overflow_x": null,
            "overflow_y": null,
            "padding": null,
            "right": null,
            "top": null,
            "visibility": "hidden",
            "width": null
          }
        },
        "f88dbb487ef64339b5b42f99beb2fc40": {
          "model_module": "@jupyter-widgets/base",
          "model_name": "LayoutModel",
          "model_module_version": "1.2.0",
          "state": {
            "_model_module": "@jupyter-widgets/base",
            "_model_module_version": "1.2.0",
            "_model_name": "LayoutModel",
            "_view_count": null,
            "_view_module": "@jupyter-widgets/base",
            "_view_module_version": "1.2.0",
            "_view_name": "LayoutView",
            "align_content": null,
            "align_items": null,
            "align_self": null,
            "border": null,
            "bottom": null,
            "display": null,
            "flex": null,
            "flex_flow": null,
            "grid_area": null,
            "grid_auto_columns": null,
            "grid_auto_flow": null,
            "grid_auto_rows": null,
            "grid_column": null,
            "grid_gap": null,
            "grid_row": null,
            "grid_template_areas": null,
            "grid_template_columns": null,
            "grid_template_rows": null,
            "height": null,
            "justify_content": null,
            "justify_items": null,
            "left": null,
            "margin": null,
            "max_height": null,
            "max_width": null,
            "min_height": null,
            "min_width": null,
            "object_fit": null,
            "object_position": null,
            "order": null,
            "overflow": null,
            "overflow_x": null,
            "overflow_y": null,
            "padding": null,
            "right": null,
            "top": null,
            "visibility": null,
            "width": null
          }
        },
        "9cf05a6b976a436693c06e38c576e477": {
          "model_module": "@jupyter-widgets/controls",
          "model_name": "DescriptionStyleModel",
          "model_module_version": "1.5.0",
          "state": {
            "_model_module": "@jupyter-widgets/controls",
            "_model_module_version": "1.5.0",
            "_model_name": "DescriptionStyleModel",
            "_view_count": null,
            "_view_module": "@jupyter-widgets/base",
            "_view_module_version": "1.2.0",
            "_view_name": "StyleView",
            "description_width": ""
          }
        },
        "f971b940a3094448afe017314aacaa77": {
          "model_module": "@jupyter-widgets/base",
          "model_name": "LayoutModel",
          "model_module_version": "1.2.0",
          "state": {
            "_model_module": "@jupyter-widgets/base",
            "_model_module_version": "1.2.0",
            "_model_name": "LayoutModel",
            "_view_count": null,
            "_view_module": "@jupyter-widgets/base",
            "_view_module_version": "1.2.0",
            "_view_name": "LayoutView",
            "align_content": null,
            "align_items": null,
            "align_self": null,
            "border": null,
            "bottom": null,
            "display": null,
            "flex": null,
            "flex_flow": null,
            "grid_area": null,
            "grid_auto_columns": null,
            "grid_auto_flow": null,
            "grid_auto_rows": null,
            "grid_column": null,
            "grid_gap": null,
            "grid_row": null,
            "grid_template_areas": null,
            "grid_template_columns": null,
            "grid_template_rows": null,
            "height": null,
            "justify_content": null,
            "justify_items": null,
            "left": null,
            "margin": null,
            "max_height": null,
            "max_width": null,
            "min_height": null,
            "min_width": null,
            "object_fit": null,
            "object_position": null,
            "order": null,
            "overflow": null,
            "overflow_x": null,
            "overflow_y": null,
            "padding": null,
            "right": null,
            "top": null,
            "visibility": null,
            "width": null
          }
        },
        "9837fca54727463caeeb427518bf97d3": {
          "model_module": "@jupyter-widgets/controls",
          "model_name": "ProgressStyleModel",
          "model_module_version": "1.5.0",
          "state": {
            "_model_module": "@jupyter-widgets/controls",
            "_model_module_version": "1.5.0",
            "_model_name": "ProgressStyleModel",
            "_view_count": null,
            "_view_module": "@jupyter-widgets/base",
            "_view_module_version": "1.2.0",
            "_view_name": "StyleView",
            "bar_color": null,
            "description_width": ""
          }
        },
        "da0047e75f1f4420b2369958545d6e54": {
          "model_module": "@jupyter-widgets/base",
          "model_name": "LayoutModel",
          "model_module_version": "1.2.0",
          "state": {
            "_model_module": "@jupyter-widgets/base",
            "_model_module_version": "1.2.0",
            "_model_name": "LayoutModel",
            "_view_count": null,
            "_view_module": "@jupyter-widgets/base",
            "_view_module_version": "1.2.0",
            "_view_name": "LayoutView",
            "align_content": null,
            "align_items": null,
            "align_self": null,
            "border": null,
            "bottom": null,
            "display": null,
            "flex": null,
            "flex_flow": null,
            "grid_area": null,
            "grid_auto_columns": null,
            "grid_auto_flow": null,
            "grid_auto_rows": null,
            "grid_column": null,
            "grid_gap": null,
            "grid_row": null,
            "grid_template_areas": null,
            "grid_template_columns": null,
            "grid_template_rows": null,
            "height": null,
            "justify_content": null,
            "justify_items": null,
            "left": null,
            "margin": null,
            "max_height": null,
            "max_width": null,
            "min_height": null,
            "min_width": null,
            "object_fit": null,
            "object_position": null,
            "order": null,
            "overflow": null,
            "overflow_x": null,
            "overflow_y": null,
            "padding": null,
            "right": null,
            "top": null,
            "visibility": null,
            "width": null
          }
        },
        "32016a60ed0c428abdd103f3f7251ba2": {
          "model_module": "@jupyter-widgets/controls",
          "model_name": "DescriptionStyleModel",
          "model_module_version": "1.5.0",
          "state": {
            "_model_module": "@jupyter-widgets/controls",
            "_model_module_version": "1.5.0",
            "_model_name": "DescriptionStyleModel",
            "_view_count": null,
            "_view_module": "@jupyter-widgets/base",
            "_view_module_version": "1.2.0",
            "_view_name": "StyleView",
            "description_width": ""
          }
        },
        "02c79bc821a2454480a2ff5b45217a16": {
          "model_module": "@jupyter-widgets/controls",
          "model_name": "HBoxModel",
          "model_module_version": "1.5.0",
          "state": {
            "_dom_classes": [],
            "_model_module": "@jupyter-widgets/controls",
            "_model_module_version": "1.5.0",
            "_model_name": "HBoxModel",
            "_view_count": null,
            "_view_module": "@jupyter-widgets/controls",
            "_view_module_version": "1.5.0",
            "_view_name": "HBoxView",
            "box_style": "",
            "children": [
              "IPY_MODEL_de6c910b5e2c4da698533ff97e3a5e01",
              "IPY_MODEL_160911d9ec3f465cb9e130c3f7d78637",
              "IPY_MODEL_7d7b03943eb244b183d06c92fd7cc596"
            ],
            "layout": "IPY_MODEL_754d024b65794e17980cdf906b34d59a"
          }
        },
        "de6c910b5e2c4da698533ff97e3a5e01": {
          "model_module": "@jupyter-widgets/controls",
          "model_name": "HTMLModel",
          "model_module_version": "1.5.0",
          "state": {
            "_dom_classes": [],
            "_model_module": "@jupyter-widgets/controls",
            "_model_module_version": "1.5.0",
            "_model_name": "HTMLModel",
            "_view_count": null,
            "_view_module": "@jupyter-widgets/controls",
            "_view_module_version": "1.5.0",
            "_view_name": "HTMLView",
            "description": "",
            "description_tooltip": null,
            "layout": "IPY_MODEL_d9d3b1ea29a246bf838f7064377cc0fd",
            "placeholder": "​",
            "style": "IPY_MODEL_482f445629fa47aa93074bee01ed746f",
            "value": "Shuffling ~/tensorflow_datasets/german_credit_numeric/1.0.0.incompleteAARTBJ/german_credit_numeric-train.tfrecord*...:   0%"
          }
        },
        "160911d9ec3f465cb9e130c3f7d78637": {
          "model_module": "@jupyter-widgets/controls",
          "model_name": "FloatProgressModel",
          "model_module_version": "1.5.0",
          "state": {
            "_dom_classes": [],
            "_model_module": "@jupyter-widgets/controls",
            "_model_module_version": "1.5.0",
            "_model_name": "FloatProgressModel",
            "_view_count": null,
            "_view_module": "@jupyter-widgets/controls",
            "_view_module_version": "1.5.0",
            "_view_name": "ProgressView",
            "bar_style": "",
            "description": "",
            "description_tooltip": null,
            "layout": "IPY_MODEL_5f25e2d35c2c428b8fe0f2bb7f074065",
            "max": 1000,
            "min": 0,
            "orientation": "horizontal",
            "style": "IPY_MODEL_acf1cc70157a419ba7c86e7817d3bc50",
            "value": 1000
          }
        },
        "7d7b03943eb244b183d06c92fd7cc596": {
          "model_module": "@jupyter-widgets/controls",
          "model_name": "HTMLModel",
          "model_module_version": "1.5.0",
          "state": {
            "_dom_classes": [],
            "_model_module": "@jupyter-widgets/controls",
            "_model_module_version": "1.5.0",
            "_model_name": "HTMLModel",
            "_view_count": null,
            "_view_module": "@jupyter-widgets/controls",
            "_view_module_version": "1.5.0",
            "_view_name": "HTMLView",
            "description": "",
            "description_tooltip": null,
            "layout": "IPY_MODEL_520701f4d5464fc696f0cda9afc6fdc9",
            "placeholder": "​",
            "style": "IPY_MODEL_c06d1ee12ad1427194fcb8e1ce45b742",
            "value": " 0/1000 [00:00&lt;?, ? examples/s]"
          }
        },
        "754d024b65794e17980cdf906b34d59a": {
          "model_module": "@jupyter-widgets/base",
          "model_name": "LayoutModel",
          "model_module_version": "1.2.0",
          "state": {
            "_model_module": "@jupyter-widgets/base",
            "_model_module_version": "1.2.0",
            "_model_name": "LayoutModel",
            "_view_count": null,
            "_view_module": "@jupyter-widgets/base",
            "_view_module_version": "1.2.0",
            "_view_name": "LayoutView",
            "align_content": null,
            "align_items": null,
            "align_self": null,
            "border": null,
            "bottom": null,
            "display": null,
            "flex": null,
            "flex_flow": null,
            "grid_area": null,
            "grid_auto_columns": null,
            "grid_auto_flow": null,
            "grid_auto_rows": null,
            "grid_column": null,
            "grid_gap": null,
            "grid_row": null,
            "grid_template_areas": null,
            "grid_template_columns": null,
            "grid_template_rows": null,
            "height": null,
            "justify_content": null,
            "justify_items": null,
            "left": null,
            "margin": null,
            "max_height": null,
            "max_width": null,
            "min_height": null,
            "min_width": null,
            "object_fit": null,
            "object_position": null,
            "order": null,
            "overflow": null,
            "overflow_x": null,
            "overflow_y": null,
            "padding": null,
            "right": null,
            "top": null,
            "visibility": "hidden",
            "width": null
          }
        },
        "d9d3b1ea29a246bf838f7064377cc0fd": {
          "model_module": "@jupyter-widgets/base",
          "model_name": "LayoutModel",
          "model_module_version": "1.2.0",
          "state": {
            "_model_module": "@jupyter-widgets/base",
            "_model_module_version": "1.2.0",
            "_model_name": "LayoutModel",
            "_view_count": null,
            "_view_module": "@jupyter-widgets/base",
            "_view_module_version": "1.2.0",
            "_view_name": "LayoutView",
            "align_content": null,
            "align_items": null,
            "align_self": null,
            "border": null,
            "bottom": null,
            "display": null,
            "flex": null,
            "flex_flow": null,
            "grid_area": null,
            "grid_auto_columns": null,
            "grid_auto_flow": null,
            "grid_auto_rows": null,
            "grid_column": null,
            "grid_gap": null,
            "grid_row": null,
            "grid_template_areas": null,
            "grid_template_columns": null,
            "grid_template_rows": null,
            "height": null,
            "justify_content": null,
            "justify_items": null,
            "left": null,
            "margin": null,
            "max_height": null,
            "max_width": null,
            "min_height": null,
            "min_width": null,
            "object_fit": null,
            "object_position": null,
            "order": null,
            "overflow": null,
            "overflow_x": null,
            "overflow_y": null,
            "padding": null,
            "right": null,
            "top": null,
            "visibility": null,
            "width": null
          }
        },
        "482f445629fa47aa93074bee01ed746f": {
          "model_module": "@jupyter-widgets/controls",
          "model_name": "DescriptionStyleModel",
          "model_module_version": "1.5.0",
          "state": {
            "_model_module": "@jupyter-widgets/controls",
            "_model_module_version": "1.5.0",
            "_model_name": "DescriptionStyleModel",
            "_view_count": null,
            "_view_module": "@jupyter-widgets/base",
            "_view_module_version": "1.2.0",
            "_view_name": "StyleView",
            "description_width": ""
          }
        },
        "5f25e2d35c2c428b8fe0f2bb7f074065": {
          "model_module": "@jupyter-widgets/base",
          "model_name": "LayoutModel",
          "model_module_version": "1.2.0",
          "state": {
            "_model_module": "@jupyter-widgets/base",
            "_model_module_version": "1.2.0",
            "_model_name": "LayoutModel",
            "_view_count": null,
            "_view_module": "@jupyter-widgets/base",
            "_view_module_version": "1.2.0",
            "_view_name": "LayoutView",
            "align_content": null,
            "align_items": null,
            "align_self": null,
            "border": null,
            "bottom": null,
            "display": null,
            "flex": null,
            "flex_flow": null,
            "grid_area": null,
            "grid_auto_columns": null,
            "grid_auto_flow": null,
            "grid_auto_rows": null,
            "grid_column": null,
            "grid_gap": null,
            "grid_row": null,
            "grid_template_areas": null,
            "grid_template_columns": null,
            "grid_template_rows": null,
            "height": null,
            "justify_content": null,
            "justify_items": null,
            "left": null,
            "margin": null,
            "max_height": null,
            "max_width": null,
            "min_height": null,
            "min_width": null,
            "object_fit": null,
            "object_position": null,
            "order": null,
            "overflow": null,
            "overflow_x": null,
            "overflow_y": null,
            "padding": null,
            "right": null,
            "top": null,
            "visibility": null,
            "width": null
          }
        },
        "acf1cc70157a419ba7c86e7817d3bc50": {
          "model_module": "@jupyter-widgets/controls",
          "model_name": "ProgressStyleModel",
          "model_module_version": "1.5.0",
          "state": {
            "_model_module": "@jupyter-widgets/controls",
            "_model_module_version": "1.5.0",
            "_model_name": "ProgressStyleModel",
            "_view_count": null,
            "_view_module": "@jupyter-widgets/base",
            "_view_module_version": "1.2.0",
            "_view_name": "StyleView",
            "bar_color": null,
            "description_width": ""
          }
        },
        "520701f4d5464fc696f0cda9afc6fdc9": {
          "model_module": "@jupyter-widgets/base",
          "model_name": "LayoutModel",
          "model_module_version": "1.2.0",
          "state": {
            "_model_module": "@jupyter-widgets/base",
            "_model_module_version": "1.2.0",
            "_model_name": "LayoutModel",
            "_view_count": null,
            "_view_module": "@jupyter-widgets/base",
            "_view_module_version": "1.2.0",
            "_view_name": "LayoutView",
            "align_content": null,
            "align_items": null,
            "align_self": null,
            "border": null,
            "bottom": null,
            "display": null,
            "flex": null,
            "flex_flow": null,
            "grid_area": null,
            "grid_auto_columns": null,
            "grid_auto_flow": null,
            "grid_auto_rows": null,
            "grid_column": null,
            "grid_gap": null,
            "grid_row": null,
            "grid_template_areas": null,
            "grid_template_columns": null,
            "grid_template_rows": null,
            "height": null,
            "justify_content": null,
            "justify_items": null,
            "left": null,
            "margin": null,
            "max_height": null,
            "max_width": null,
            "min_height": null,
            "min_width": null,
            "object_fit": null,
            "object_position": null,
            "order": null,
            "overflow": null,
            "overflow_x": null,
            "overflow_y": null,
            "padding": null,
            "right": null,
            "top": null,
            "visibility": null,
            "width": null
          }
        },
        "c06d1ee12ad1427194fcb8e1ce45b742": {
          "model_module": "@jupyter-widgets/controls",
          "model_name": "DescriptionStyleModel",
          "model_module_version": "1.5.0",
          "state": {
            "_model_module": "@jupyter-widgets/controls",
            "_model_module_version": "1.5.0",
            "_model_name": "DescriptionStyleModel",
            "_view_count": null,
            "_view_module": "@jupyter-widgets/base",
            "_view_module_version": "1.2.0",
            "_view_name": "StyleView",
            "description_width": ""
          }
        }
      }
    }
  },
  "nbformat": 4,
  "nbformat_minor": 0
}